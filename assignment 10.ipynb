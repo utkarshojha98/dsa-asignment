{
 "cells": [
  {
   "cell_type": "markdown",
   "id": "8ac890f8",
   "metadata": {},
   "source": [
    "<aside>\n",
    "💡 **Question 1**\n",
    "\n",
    "Given an integer `n`, return *`true` if it is a power of three. Otherwise, return `false`*.\n",
    "\n",
    "An integer `n` is a power of three, if there exists an integer `x` such that `n == 3x`.\n",
    "\n",
    "**Example 1:**\n",
    "\n",
    "```\n",
    "Input: n = 27\n",
    "Output: true\n",
    "Explanation: 27 = 33\n",
    "```\n",
    "\n",
    "**Example 2:**\n",
    "\n",
    "</aside>"
   ]
  },
  {
   "cell_type": "code",
   "execution_count": 1,
   "id": "4e877633",
   "metadata": {},
   "outputs": [
    {
     "name": "stdout",
     "output_type": "stream",
     "text": [
      "True\n",
      "True\n",
      "False\n"
     ]
    }
   ],
   "source": [
    "import math\n",
    "\n",
    "def is_power_of_three(n):\n",
    "    if n <= 0:\n",
    "        return False\n",
    "    power = math.log(n, 3)\n",
    "    return math.isclose(power, round(power))\n",
    "\n",
    "# Test the function\n",
    "print(is_power_of_three(27))  # Output: True\n",
    "print(is_power_of_three(9))   # Output: True\n",
    "print(is_power_of_three(45))  # Output: False\n"
   ]
  },
  {
   "cell_type": "markdown",
   "id": "7406747e",
   "metadata": {},
   "source": [
    "<aside>\n",
    "💡 **Question 2**\n",
    "\n",
    "You have a list `arr` of all integers in the range `[1, n]` sorted in a strictly increasing order. Apply the following algorithm on `arr`:\n",
    "\n",
    "- Starting from left to right, remove the first number and every other number afterward until you reach the end of the list.\n",
    "- Repeat the previous step again, but this time from right to left, remove the rightmost number and every other number from the remaining numbers.\n",
    "- Keep repeating the steps again, alternating left to right and right to left, until a single number remains.\n",
    "\n",
    "Given the integer `n`, return *the last number that remains in* `arr`.\n",
    "\n",
    "**Example 1:**\n",
    "\n",
    "</aside>"
   ]
  },
  {
   "cell_type": "code",
   "execution_count": 2,
   "id": "70d98273",
   "metadata": {},
   "outputs": [
    {
     "name": "stdout",
     "output_type": "stream",
     "text": [
      "6\n",
      "6\n",
      "2\n"
     ]
    }
   ],
   "source": [
    "def last_remaining(n):\n",
    "    return helper(n, True)\n",
    "\n",
    "def helper(n, is_left):\n",
    "    if n == 1:\n",
    "        return 1\n",
    "    if is_left:\n",
    "        return 2 * helper(n // 2, False)\n",
    "    else:\n",
    "        if n % 2 == 1:\n",
    "            return 2 * helper(n // 2, True)\n",
    "        else:\n",
    "            return 2 * helper(n // 2, True) - 1\n",
    "\n",
    "# Test the function\n",
    "print(last_remaining(9))   # Output: 6\n",
    "print(last_remaining(12))  # Output: 8\n",
    "print(last_remaining(5))   # Output: 4\n"
   ]
  },
  {
   "cell_type": "markdown",
   "id": "cdb40e0a",
   "metadata": {},
   "source": [
    "<aside>\n",
    "💡 **Question 3**\n",
    "\n",
    "****Given a set represented as a string, write a recursive code to print all subsets of it. The subsets can be printed in any order.\n",
    "\n",
    "**Example 1:**\n",
    "\n",
    "Input :  set = “abc”\n",
    "\n",
    "Output : { “”, “a”, “b”, “c”, “ab”, “ac”, “bc”, “abc”}\n",
    "\n",
    "**Example 2:**\n",
    "\n",
    "Input : set = “abcd”\n",
    "\n",
    "Output : { “”, “a” ,”ab” ,”abc” ,”abcd”, “abd” ,”ac” ,”acd”, “ad” ,”b”, “bc” ,”bcd” ,”bd” ,”c” ,”cd” ,”d” }\n",
    "\n",
    "</aside>"
   ]
  },
  {
   "cell_type": "code",
   "execution_count": 3,
   "id": "4979f65b",
   "metadata": {},
   "outputs": [
    {
     "name": "stdout",
     "output_type": "stream",
     "text": [
      "['', 'c', 'b', 'bc', 'a', 'ac', 'ab', 'abc']\n",
      "['', 'd', 'c', 'cd', 'b', 'bd', 'bc', 'bcd', 'a', 'ad', 'ac', 'acd', 'ab', 'abd', 'abc', 'abcd']\n"
     ]
    }
   ],
   "source": [
    "def generate_subsets(s):\n",
    "    subsets = []\n",
    "    helper(s, \"\", 0, subsets)\n",
    "    return subsets\n",
    "\n",
    "def helper(s, current_subset, index, subsets):\n",
    "    if index == len(s):\n",
    "        subsets.append(current_subset)\n",
    "        return\n",
    "\n",
    "    # Exclude current element\n",
    "    helper(s, current_subset, index + 1, subsets)\n",
    "\n",
    "    # Include current element\n",
    "    helper(s, current_subset + s[index], index + 1, subsets)\n",
    "\n",
    "# Test the function\n",
    "print(generate_subsets(\"abc\"))\n",
    "print(generate_subsets(\"abcd\"))\n"
   ]
  },
  {
   "cell_type": "markdown",
   "id": "65da3ece",
   "metadata": {},
   "source": [
    "<aside>\n",
    "💡 **Question 4**\n",
    "\n",
    "Given a string calculate length of the string using recursion.\n",
    "\n",
    "</aside>"
   ]
  },
  {
   "cell_type": "code",
   "execution_count": 4,
   "id": "aa9431fd",
   "metadata": {},
   "outputs": [
    {
     "name": "stdout",
     "output_type": "stream",
     "text": [
      "5\n",
      "5\n"
     ]
    }
   ],
   "source": [
    "def calculate_length(s):\n",
    "    if s == \"\":\n",
    "        return 0\n",
    "    else:\n",
    "        return 1 + calculate_length(s[1:])\n",
    "\n",
    "# Test the function\n",
    "print(calculate_length(\"hello\"))\n",
    "print(calculate_length(\"world\"))\n"
   ]
  },
  {
   "cell_type": "code",
   "execution_count": null,
   "id": "760f8e4a",
   "metadata": {},
   "outputs": [],
   "source": []
  },
  {
   "cell_type": "markdown",
   "id": "c5182d5e",
   "metadata": {},
   "source": [
    " **Question 5**\n",
    "\n",
    "We are given a string S, we need to find count of all contiguous substrings starting and ending with same character."
   ]
  },
  {
   "cell_type": "code",
   "execution_count": 5,
   "id": "f35956dd",
   "metadata": {},
   "outputs": [
    {
     "name": "stdout",
     "output_type": "stream",
     "text": [
      "3\n",
      "4\n"
     ]
    }
   ],
   "source": [
    "def count_substrings(s):\n",
    "    count = 0\n",
    "    n = len(s)\n",
    "    \n",
    "    # Iterate over each character in the string\n",
    "    for i in range(n):\n",
    "        # For each character, count the number of substrings that start and end with it\n",
    "        for j in range(i, n):\n",
    "            if s[i] == s[j]:\n",
    "                count += 1\n",
    "    \n",
    "    return count\n",
    "\n",
    "# Test the function\n",
    "print(count_substrings(\"abc\"))\n",
    "print(count_substrings(\"aab\"))\n"
   ]
  },
  {
   "cell_type": "markdown",
   "id": "075945c1",
   "metadata": {},
   "source": [
    "<aside>\n",
    "💡 **Question 6**\n",
    "\n",
    "The [tower of Hanoi](https://en.wikipedia.org/wiki/Tower_of_Hanoi) is a famous puzzle where we have three rods and **N** disks. The objective of the puzzle is to move the entire stack to another rod. You are given the number of discs **N**. Initially, these discs are in the rod 1. You need to print all the steps of discs movement so that all the discs reach the 3rd rod. Also, you need to find the total moves.**Note:** The discs are arranged such that the **top disc is numbered 1** and the **bottom-most disc is numbered N**. Also, all the discs have **different sizes** and a bigger disc **cannot** be put on the top of a smaller disc. Refer the provided link to get a better clarity about the puzzle.\n",
    "\n",
    "</aside>"
   ]
  },
  {
   "cell_type": "code",
   "execution_count": 7,
   "id": "ac2de22e",
   "metadata": {},
   "outputs": [
    {
     "name": "stdout",
     "output_type": "stream",
     "text": [
      "Move disc 1 from rod 1 to rod 3\n",
      "Move disc 2 from rod 1 to rod 2\n",
      "Move disc 1 from rod 3 to rod 2\n",
      "Move disc 3 from rod 1 to rod 3\n",
      "Move disc 1 from rod 2 to rod 1\n",
      "Move disc 2 from rod 2 to rod 3\n",
      "Move disc 1 from rod 1 to rod 3\n",
      "Total moves required: 7\n"
     ]
    }
   ],
   "source": [
    "def tower_of_hanoi(n, source, destination, auxiliary):\n",
    "    if n == 1:\n",
    "        print(f\"Move disc 1 from rod {source} to rod {destination}\")\n",
    "        return 1\n",
    "    \n",
    "    moves = 0\n",
    "    \n",
    "    moves += tower_of_hanoi(n - 1, source, auxiliary, destination)\n",
    "    print(f\"Move disc {n} from rod {source} to rod {destination}\")\n",
    "    moves += 1\n",
    "    moves += tower_of_hanoi(n - 1, auxiliary, destination, source)\n",
    "    \n",
    "    return moves\n",
    "\n",
    "# Test the function\n",
    "n = 3\n",
    "total_moves = tower_of_hanoi(n, 1, 3, 2)\n",
    "print(f\"Total moves required: {total_moves}\")\n"
   ]
  },
  {
   "cell_type": "markdown",
   "id": "3a3cd0c6",
   "metadata": {},
   "source": [
    "<aside>\n",
    "💡 **Question 7**\n",
    "\n",
    "Given a string **str**, the task is to print all the permutations of **str**. A **permutation** is an arrangement of all or part of a set of objects, with regard to the order of the arrangement. For instance, the words ‘bat’ and ‘tab’ represents two distinct permutation (or arrangements) of a similar three letter word.\n",
    "\n",
    "</aside>"
   ]
  },
  {
   "cell_type": "code",
   "execution_count": 8,
   "id": "593f4834",
   "metadata": {},
   "outputs": [
    {
     "name": "stdout",
     "output_type": "stream",
     "text": [
      "abc\n",
      "acb\n",
      "bac\n",
      "bca\n",
      "cba\n",
      "cab\n"
     ]
    }
   ],
   "source": [
    "def permute(s, l, r):\n",
    "    if l == r:\n",
    "        print(\"\".join(s))\n",
    "    else:\n",
    "        for i in range(l, r + 1):\n",
    "            s[l], s[i] = s[i], s[l]  # Swap characters\n",
    "            permute(s, l + 1, r)    # Recursively permute the remaining characters\n",
    "            s[l], s[i] = s[i], s[l]  # Backtrack (undo the swap)\n",
    "\n",
    "# Test the function\n",
    "str = \"abc\"\n",
    "n = len(str)\n",
    "permute(list(str), 0, n - 1)\n"
   ]
  },
  {
   "cell_type": "markdown",
   "id": "908f42a3",
   "metadata": {},
   "source": [
    "<aside>\n",
    "💡 **Question 8**\n",
    "\n",
    "Given a string, count total number of consonants in it. A consonant is an English alphabet character that is not vowel (a, e, i, o and u). Examples of constants are b, c, d, f, and g.\n",
    "\n",
    "</aside>"
   ]
  },
  {
   "cell_type": "code",
   "execution_count": 9,
   "id": "00a5fe5e",
   "metadata": {},
   "outputs": [
    {
     "name": "stdout",
     "output_type": "stream",
     "text": [
      "7\n"
     ]
    }
   ],
   "source": [
    "def count_consonants(s):\n",
    "    consonants = \"bcdfghjklmnpqrstvwxyzBCDFGHJKLMNPQRSTVWXYZ\"\n",
    "    count = 0\n",
    "\n",
    "    for char in s:\n",
    "        if char in consonants:\n",
    "            count += 1\n",
    "\n",
    "    return count\n",
    "\n",
    "# Test the function\n",
    "str = \"Hello World\"\n",
    "print(count_consonants(str))  # Output: 7\n"
   ]
  },
  {
   "cell_type": "code",
   "execution_count": null,
   "id": "c8382ee5",
   "metadata": {},
   "outputs": [],
   "source": []
  }
 ],
 "metadata": {
  "kernelspec": {
   "display_name": "Python 3 (ipykernel)",
   "language": "python",
   "name": "python3"
  },
  "language_info": {
   "codemirror_mode": {
    "name": "ipython",
    "version": 3
   },
   "file_extension": ".py",
   "mimetype": "text/x-python",
   "name": "python",
   "nbconvert_exporter": "python",
   "pygments_lexer": "ipython3",
   "version": "3.10.9"
  }
 },
 "nbformat": 4,
 "nbformat_minor": 5
}
