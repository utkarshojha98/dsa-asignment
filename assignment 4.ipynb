{
 "cells": [
  {
   "cell_type": "markdown",
   "id": "2232d697",
   "metadata": {},
   "source": [
    "<aside>\n",
    "💡 **Question 1**\n",
    "Given three integer arrays arr1, arr2 and arr3 **sorted** in **strictly increasing** order, return a sorted array of **only** the integers that appeared in **all** three arrays.\n",
    "\n",
    "**Example 1:**\n",
    "\n",
    "Input: arr1 = [1,2,3,4,5], arr2 = [1,2,5,7,9], arr3 = [1,3,4,5,8]\n",
    "\n",
    "Output: [1,5]\n",
    "\n",
    "</aside>"
   ]
  },
  {
   "cell_type": "code",
   "execution_count": null,
   "id": "397880aa",
   "metadata": {},
   "outputs": [],
   "source": [
    "def commonElements(arr1, arr2, arr3):\n",
    "    p1, p2, p3 = 0, 0, 0\n",
    "    result = []\n",
    "\n",
    "    while p1 < len(arr1) and p2 < len(arr2) and p3 < len(arr3):\n",
    "        if arr1[p1] == arr2[p2] == arr3[p3]:\n",
    "            result.append(arr1[p1])\n",
    "            p1 += 1\n",
    "            p2 += 1\n",
    "            p3 += 1\n",
    "        elif arr1[p1] < min(arr2[p2], arr3[p3]):\n",
    "            p1 += 1\n",
    "        elif arr2[p2] < min(arr1[p1], arr3[p3]):\n",
    "            p2 += 1\n",
    "        else:\n",
    "            p3 += 1\n",
    "\n",
    "    return result\n"
   ]
  },
  {
   "cell_type": "markdown",
   "id": "99aa244a",
   "metadata": {},
   "source": [
    "<aside>\n",
    "💡 **Question 2**\n",
    "\n",
    "Given two **0-indexed** integer arrays nums1 and nums2, return *a list* answer *of size* 2 *where:*\n",
    "\n",
    "- answer[0] *is a list of all **distinct** integers in* nums1 *which are **not** present in* nums2*.*\n",
    "- answer[1] *is a list of all **distinct** integers in* nums2 *which are **not** present in* nums1.\n",
    "\n",
    "**Note** that the integers in the lists may be returned in **any** order.\n",
    "\n",
    "**Example 1:**\n",
    "\n",
    "**Input:** nums1 = [1,2,3], nums2 = [2,4,6]\n",
    "\n",
    "**Output:** [[1,3],[4,6]]\n",
    "\n",
    "</aside>"
   ]
  },
  {
   "cell_type": "code",
   "execution_count": 1,
   "id": "4faf5b9e",
   "metadata": {},
   "outputs": [],
   "source": [
    "def findDisjoint(nums1, nums2):\n",
    "    set1 = set(nums1)\n",
    "    set2 = set(nums2)\n",
    "\n",
    "    distinct_nums1 = list(set1 - set2)\n",
    "    distinct_nums2 = list(set2 - set1)\n",
    "\n",
    "    return [distinct_nums1, distinct_nums2]\n"
   ]
  },
  {
   "cell_type": "markdown",
   "id": "068c8da9",
   "metadata": {},
   "source": [
    "<aside>\n",
    "💡 **Question 3**\n",
    "Given a 2D integer array matrix, return *the **transpose** of* matrix.\n",
    "\n",
    "The **transpose** of a matrix is the matrix flipped over its main diagonal, switching the matrix's row and column indices.\n",
    "\n",
    "**Example 1:**\n",
    "\n",
    "Input: matrix = [[1,2,3],[4,5,6],[7,8,9]]\n",
    "\n",
    "Output: [[1,4,7],[2,5,8],[3,6,9]]\n",
    "\n",
    "</aside>"
   ]
  },
  {
   "cell_type": "code",
   "execution_count": 2,
   "id": "930f4445",
   "metadata": {},
   "outputs": [],
   "source": [
    "def transpose(matrix):\n",
    "    num_rows = len(matrix)\n",
    "    num_cols = len(matrix[0])\n",
    "\n",
    "    for row in range(num_rows):\n",
    "        for column in range(row, num_cols):\n",
    "            matrix[row][column], matrix[column][row] = matrix[column][row], matrix[row][column]\n",
    "\n",
    "    return matrix\n"
   ]
  },
  {
   "cell_type": "markdown",
   "id": "93b6afcb",
   "metadata": {},
   "source": [
    "<aside>\n",
    "💡 **Question 4**\n",
    "Given an integer array nums of 2n integers, group these integers into n pairs (a1, b1), (a2, b2), ..., (an, bn) such that the sum of min(ai, bi) for all i is **maximized**. Return *the maximized sum*.\n",
    "\n",
    "**Example 1:**\n",
    "\n",
    "Input: nums = [1,4,3,2]\n",
    "\n",
    "Output: 4\n",
    "\n",
    "</aside>"
   ]
  },
  {
   "cell_type": "code",
   "execution_count": 3,
   "id": "3b379197",
   "metadata": {},
   "outputs": [],
   "source": [
    "def arrayPairSum(nums):\n",
    "    nums.sort()\n",
    "    max_sum = 0\n",
    "\n",
    "    for i in range(0, len(nums), 2):\n",
    "        max_sum += nums[i]\n",
    "\n",
    "    return max_sum\n"
   ]
  },
  {
   "cell_type": "markdown",
   "id": "4f2df963",
   "metadata": {},
   "source": [
    "\n",
    "💡 **Question 5**\n",
    "You have n coins and you want to build a staircase with these coins. The staircase consists of k rows where the ith row has exactly i coins. The last row of the staircase **may be** incomplete.\n",
    "\n",
    "Given the integer n, return *the number of **complete rows** of the staircase you will build*.\n",
    "\n"
   ]
  },
  {
   "cell_type": "code",
   "execution_count": 4,
   "id": "bc343944",
   "metadata": {},
   "outputs": [],
   "source": [
    "def arrayPairSum(nums):\n",
    "    nums.sort()\n",
    "    max_sum = 0\n",
    "\n",
    "    for i in range(0, len(nums), 2):\n",
    "        max_sum += nums[i]\n",
    "\n",
    "    return max_sum\n"
   ]
  },
  {
   "cell_type": "markdown",
   "id": "fa1dc4c2",
   "metadata": {},
   "source": [
    "<aside>\n",
    "💡 **Question 6**\n",
    "Given an integer array nums sorted in **non-decreasing** order, return *an array of **the squares of each number** sorted in non-decreasing order*.\n",
    "\n",
    "**Example 1:**\n",
    "\n",
    "Input: nums = [-4,-1,0,3,10]\n",
    "\n",
    "Output: [0,1,9,16,100]\n",
    "\n",
    "</aside>"
   ]
  },
  {
   "cell_type": "code",
   "execution_count": 5,
   "id": "3cbe71d2",
   "metadata": {},
   "outputs": [],
   "source": [
    "def sortedSquares(nums):\n",
    "    left = 0\n",
    "    right = len(nums) - 1\n",
    "    result = []\n",
    "\n",
    "    while left <= right:\n",
    "        if abs(nums[left]) >= abs(nums[right]):\n",
    "            result.append(nums[left] * nums[left])\n",
    "            left += 1\n",
    "        else:\n",
    "            result.append(nums[right] * nums[right])\n",
    "            right -= 1\n",
    "\n",
    "    return result[::-1]  # Reverse the list to get non-decreasing order\n"
   ]
  },
  {
   "cell_type": "markdown",
   "id": "333e681e",
   "metadata": {},
   "source": [
    "<aside>\n",
    "💡 **Question 7**\n",
    "You are given an m x n matrix M initialized with all 0's and an array of operations ops, where ops[i] = [ai, bi] means M[x][y] should be incremented by one for all 0 <= x < ai and 0 <= y < bi.\n",
    "\n",
    "Count and return *the number of maximum integers in the matrix after performing all the operations*\n",
    "\n",
    "**Example 1:**\n",
    "\n",
    "![q4.jpg](https://s3-us-west-2.amazonaws.com/secure.notion-static.com/4d0890d0-7bc7-4f59-be8e-352d9f3c1c52/q4.jpg)\n",
    "\n",
    "**Input:** m = 3, n = 3, ops = [[2,2],[3,3]]\n",
    "\n",
    "**Output:** 4\n",
    "\n",
    "</aside>"
   ]
  },
  {
   "cell_type": "code",
   "execution_count": 6,
   "id": "9a48eee5",
   "metadata": {},
   "outputs": [],
   "source": [
    "def maxCount(m, n, ops):\n",
    "    max_row = m\n",
    "    max_col = n\n",
    "\n",
    "    for op in ops:\n",
    "        max_row = min(max_row, op[0])\n",
    "        max_col = min(max_col, op[1])\n",
    "\n",
    "    return max_row * max_col\n"
   ]
  },
  {
   "cell_type": "markdown",
   "id": "38c3fb33",
   "metadata": {},
   "source": [
    "<aside>\n",
    "💡 **Question 8**\n",
    "\n",
    "Given the array nums consisting of 2n elements in the form [x1,x2,...,xn,y1,y2,...,yn].\n",
    "\n",
    "*Return the array in the form* [x1,y1,x2,y2,...,xn,yn].\n",
    "\n",
    "**Example 1:**\n",
    "\n",
    "**Input:** nums = [2,5,1,3,4,7], n = 3\n",
    "\n",
    "**Output:** [2,3,5,4,1,7]\n",
    "\n",
    "</aside>"
   ]
  },
  {
   "cell_type": "code",
   "execution_count": 7,
   "id": "6e49d9ed",
   "metadata": {},
   "outputs": [],
   "source": [
    "def shuffle(nums, n):\n",
    "    result = []\n",
    "    for i in range(n):\n",
    "        result.append(nums[i])\n",
    "        result.append(nums[i + n])\n",
    "    return result\n"
   ]
  },
  {
   "cell_type": "code",
   "execution_count": null,
   "id": "bd04f8f8",
   "metadata": {},
   "outputs": [],
   "source": []
  }
 ],
 "metadata": {
  "kernelspec": {
   "display_name": "Python 3 (ipykernel)",
   "language": "python",
   "name": "python3"
  },
  "language_info": {
   "codemirror_mode": {
    "name": "ipython",
    "version": 3
   },
   "file_extension": ".py",
   "mimetype": "text/x-python",
   "name": "python",
   "nbconvert_exporter": "python",
   "pygments_lexer": "ipython3",
   "version": "3.10.9"
  }
 },
 "nbformat": 4,
 "nbformat_minor": 5
}
